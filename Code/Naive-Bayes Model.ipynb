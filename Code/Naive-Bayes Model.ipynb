{
 "cells": [
  {
   "cell_type": "code",
   "execution_count": 124,
   "metadata": {},
   "outputs": [],
   "source": [
    "#!pip install mlxtend"
   ]
  },
  {
   "cell_type": "code",
   "execution_count": 125,
   "metadata": {},
   "outputs": [],
   "source": [
    "import pandas as pd\n",
    "import numpy as np\n",
    "import os\n",
    "import matplotlib.pyplot as plt"
   ]
  },
  {
   "cell_type": "code",
   "execution_count": 126,
   "metadata": {},
   "outputs": [],
   "source": [
    "def get_num_cols(data):\n",
    "    cols = data.columns\n",
    "    num_cols = data._get_numeric_data().columns\n",
    "    return num_cols"
   ]
  },
  {
   "cell_type": "code",
   "execution_count": 127,
   "metadata": {},
   "outputs": [],
   "source": [
    "def get_categorical_cols(data):\n",
    "    cols = data.columns\n",
    "    num_cols = data._get_numeric_data().columns\n",
    "    cat_cols = list(set(cols) - set(num_cols))\n",
    "    return cat_cols"
   ]
  },
  {
   "cell_type": "code",
   "execution_count": 128,
   "metadata": {},
   "outputs": [],
   "source": [
    "def get_xy_from_data(data):\n",
    "    data.arstmade = data.arstmade.astype('int')\n",
    "    y_train = data['arstmade']\n",
    "    X_train = data.loc[: , data.columns != 'arstmade']\n",
    "    return X_train, y_train"
   ]
  },
  {
   "cell_type": "code",
   "execution_count": 129,
   "metadata": {},
   "outputs": [],
   "source": [
    "def transform_target(data):\n",
    "    for i in range(len(data)):\n",
    "        if data.loc[i,'arstmade'] == 'N':\n",
    "            data.loc[i,'arstmade'] = 0\n",
    "        else:\n",
    "            data.loc[i,'arstmade'] = 1\n",
    "    return data"
   ]
  },
  {
   "cell_type": "code",
   "execution_count": 130,
   "metadata": {},
   "outputs": [],
   "source": [
    "def train_data_encoding(data):\n",
    "    #ONE HOT ENCODING OF THE TRAINING DATA\n",
    "    cat_cols = get_categorical_cols(data)\n",
    "    num_cols = get_num_cols(data)\n",
    "\n",
    "    #one-hot-encode the training data\n",
    "    df_processed = one_hot_encode_data(data)\n",
    "\n",
    "    #return the one-hot-encoded training-data\n",
    "\n",
    "    #cat_dummies - a list of all the categorical feature values \n",
    "    cat_dummies = [col for col in df_processed if \"__\" in col and col.split(\"__\")[0] in cat_cols]\n",
    "\n",
    "    processed_cols = list(df_processed.columns)\n",
    "    #processed_cols\n",
    "    \n",
    "    return cat_cols, processed_cols, cat_dummies, df_processed"
   ]
  },
  {
   "cell_type": "code",
   "execution_count": 131,
   "metadata": {},
   "outputs": [],
   "source": [
    "def one_hot_encode_data(data):\n",
    "    cat_cols = get_categorical_cols(data)\n",
    "    num_cols = get_num_cols(data)\n",
    "    dt = pd.get_dummies(data, prefix_sep=\"__\", columns=cat_cols)\n",
    "    return dt"
   ]
  },
  {
   "cell_type": "code",
   "execution_count": 132,
   "metadata": {},
   "outputs": [],
   "source": [
    "def prepare_test_data(test_data):\n",
    "    #Process the test data\n",
    "    df_test_proc = pd.get_dummies(test_data, prefix_sep=\"__\", columns=train_cat_cols)\n",
    "\n",
    "    #remove additional feature-columns from the test set\n",
    "    for col in df_test_proc.columns:\n",
    "        if(\"__\" in col) and (col.split(\"__\")[0] in train_cat_cols) and col not in train_dummies:\n",
    "            #print(\"Removing the additional features {}\".format(col))\n",
    "            df_test_proc.drop(col, axis=1, inplace=True)\n",
    "        \n",
    "    #adding missing feature-columns to the test set\n",
    "    for col in train_dummies:\n",
    "        if col not in df_test_proc.columns:\n",
    "            #print(\"adding missing feature {}\".format(col))\n",
    "            df_test_proc[col]=0\n",
    "    #reorder test data columns to match training set order\n",
    "    df_test_proc = df_test_proc.sort_index(axis=1)\n",
    "    return df_test_proc"
   ]
  },
  {
   "cell_type": "code",
   "execution_count": 133,
   "metadata": {},
   "outputs": [],
   "source": [
    "from sklearn.model_selection import train_test_split\n",
    "def train_validation_data_split(data, target, test_data_ratio, seed):\n",
    "    y = data[target]\n",
    "    X = data.loc[:, data.columns!= target]\n",
    "    \n",
    "    X_train, X_test, y_train, y_test = train_test_split(X, y, test_size=test_data_ratio, random_state=seed)\n",
    "    return X_train, X_test, y_train, y_test"
   ]
  },
  {
   "cell_type": "markdown",
   "metadata": {},
   "source": [
    "Load Data"
   ]
  },
  {
   "cell_type": "code",
   "execution_count": 134,
   "metadata": {},
   "outputs": [
    {
     "output_type": "execute_result",
     "data": {
      "text/plain": [
       "   Unnamed: 0  year timestop_cat recstat inout trhsloc crimsusp typeofid  \\\n",
       "0           0  2015            D       1     O       P    other        V   \n",
       "1           1  2015            D       A     O       P    other        V   \n",
       "2           2  2015            D       1     O       P     MISD        V   \n",
       "3           3  2015            D       1     O       P    other        V   \n",
       "4           4  2015            D       1     O       P    other        V   \n",
       "\n",
       "  explnstp othpers  ... sex race age weight build       city weapons  \\\n",
       "0        Y       N  ...   M    W  33    190     M   BROOKLYN       N   \n",
       "1        Y       N  ...   M    B  14    140     T  MANHATTAN       N   \n",
       "2        Y       N  ...   M    B  14    140     T  MANHATTAN       N   \n",
       "3        Y       Y  ...   M    B  14    180     M  MANHATTAN       N   \n",
       "4        Y       Y  ...   M    B  13    160     M  MANHATTAN       N   \n",
       "\n",
       "  physical_force height arstmade  \n",
       "0              N     71        N  \n",
       "1              Y     68        N  \n",
       "2              Y     63        N  \n",
       "3              N     69        N  \n",
       "4              Y     70        N  \n",
       "\n",
       "[5 rows x 50 columns]"
      ],
      "text/html": "<div>\n<style scoped>\n    .dataframe tbody tr th:only-of-type {\n        vertical-align: middle;\n    }\n\n    .dataframe tbody tr th {\n        vertical-align: top;\n    }\n\n    .dataframe thead th {\n        text-align: right;\n    }\n</style>\n<table border=\"1\" class=\"dataframe\">\n  <thead>\n    <tr style=\"text-align: right;\">\n      <th></th>\n      <th>Unnamed: 0</th>\n      <th>year</th>\n      <th>timestop_cat</th>\n      <th>recstat</th>\n      <th>inout</th>\n      <th>trhsloc</th>\n      <th>crimsusp</th>\n      <th>typeofid</th>\n      <th>explnstp</th>\n      <th>othpers</th>\n      <th>...</th>\n      <th>sex</th>\n      <th>race</th>\n      <th>age</th>\n      <th>weight</th>\n      <th>build</th>\n      <th>city</th>\n      <th>weapons</th>\n      <th>physical_force</th>\n      <th>height</th>\n      <th>arstmade</th>\n    </tr>\n  </thead>\n  <tbody>\n    <tr>\n      <th>0</th>\n      <td>0</td>\n      <td>2015</td>\n      <td>D</td>\n      <td>1</td>\n      <td>O</td>\n      <td>P</td>\n      <td>other</td>\n      <td>V</td>\n      <td>Y</td>\n      <td>N</td>\n      <td>...</td>\n      <td>M</td>\n      <td>W</td>\n      <td>33</td>\n      <td>190</td>\n      <td>M</td>\n      <td>BROOKLYN</td>\n      <td>N</td>\n      <td>N</td>\n      <td>71</td>\n      <td>N</td>\n    </tr>\n    <tr>\n      <th>1</th>\n      <td>1</td>\n      <td>2015</td>\n      <td>D</td>\n      <td>A</td>\n      <td>O</td>\n      <td>P</td>\n      <td>other</td>\n      <td>V</td>\n      <td>Y</td>\n      <td>N</td>\n      <td>...</td>\n      <td>M</td>\n      <td>B</td>\n      <td>14</td>\n      <td>140</td>\n      <td>T</td>\n      <td>MANHATTAN</td>\n      <td>N</td>\n      <td>Y</td>\n      <td>68</td>\n      <td>N</td>\n    </tr>\n    <tr>\n      <th>2</th>\n      <td>2</td>\n      <td>2015</td>\n      <td>D</td>\n      <td>1</td>\n      <td>O</td>\n      <td>P</td>\n      <td>MISD</td>\n      <td>V</td>\n      <td>Y</td>\n      <td>N</td>\n      <td>...</td>\n      <td>M</td>\n      <td>B</td>\n      <td>14</td>\n      <td>140</td>\n      <td>T</td>\n      <td>MANHATTAN</td>\n      <td>N</td>\n      <td>Y</td>\n      <td>63</td>\n      <td>N</td>\n    </tr>\n    <tr>\n      <th>3</th>\n      <td>3</td>\n      <td>2015</td>\n      <td>D</td>\n      <td>1</td>\n      <td>O</td>\n      <td>P</td>\n      <td>other</td>\n      <td>V</td>\n      <td>Y</td>\n      <td>Y</td>\n      <td>...</td>\n      <td>M</td>\n      <td>B</td>\n      <td>14</td>\n      <td>180</td>\n      <td>M</td>\n      <td>MANHATTAN</td>\n      <td>N</td>\n      <td>N</td>\n      <td>69</td>\n      <td>N</td>\n    </tr>\n    <tr>\n      <th>4</th>\n      <td>4</td>\n      <td>2015</td>\n      <td>D</td>\n      <td>1</td>\n      <td>O</td>\n      <td>P</td>\n      <td>other</td>\n      <td>V</td>\n      <td>Y</td>\n      <td>Y</td>\n      <td>...</td>\n      <td>M</td>\n      <td>B</td>\n      <td>13</td>\n      <td>160</td>\n      <td>M</td>\n      <td>MANHATTAN</td>\n      <td>N</td>\n      <td>Y</td>\n      <td>70</td>\n      <td>N</td>\n    </tr>\n  </tbody>\n</table>\n<p>5 rows × 50 columns</p>\n</div>"
     },
     "metadata": {},
     "execution_count": 134
    }
   ],
   "source": [
    "df = pd.read_csv('crime_data_new.csv')\n",
    "df.head()"
   ]
  },
  {
   "cell_type": "code",
   "execution_count": 135,
   "metadata": {},
   "outputs": [
    {
     "output_type": "execute_result",
     "data": {
      "text/plain": [
       "(30895, 50)"
      ]
     },
     "metadata": {},
     "execution_count": 135
    }
   ],
   "source": [
    "df.shape"
   ]
  },
  {
   "cell_type": "markdown",
   "metadata": {},
   "source": [
    "Transform age column into a categorical distribution"
   ]
  },
  {
   "cell_type": "code",
   "execution_count": 136,
   "metadata": {},
   "outputs": [],
   "source": [
    "df = df.drop('age', axis=1)"
   ]
  },
  {
   "cell_type": "code",
   "execution_count": 137,
   "metadata": {},
   "outputs": [],
   "source": [
    "target_variable = 'arstmade'"
   ]
  },
  {
   "cell_type": "code",
   "execution_count": 138,
   "metadata": {},
   "outputs": [],
   "source": [
    "#Transform target variable\n",
    "df = transform_target(df)"
   ]
  },
  {
   "cell_type": "code",
   "execution_count": 139,
   "metadata": {},
   "outputs": [
    {
     "output_type": "execute_result",
     "data": {
      "text/plain": [
       "   Unnamed: 0  year timestop_cat recstat inout trhsloc crimsusp typeofid  \\\n",
       "0           0  2015            D       1     O       P    other        V   \n",
       "1           1  2015            D       A     O       P    other        V   \n",
       "2           2  2015            D       1     O       P     MISD        V   \n",
       "3           3  2015            D       1     O       P    other        V   \n",
       "4           4  2015            D       1     O       P    other        V   \n",
       "\n",
       "  explnstp othpers  ... forceuse sex race weight build       city weapons  \\\n",
       "0        Y       N  ...        N   M    W    190     M   BROOKLYN       N   \n",
       "1        Y       N  ...       SF   M    B    140     T  MANHATTAN       N   \n",
       "2        Y       N  ...       SF   M    B    140     T  MANHATTAN       N   \n",
       "3        Y       Y  ...        N   M    B    180     M  MANHATTAN       N   \n",
       "4        Y       Y  ...       SF   M    B    160     M  MANHATTAN       N   \n",
       "\n",
       "  physical_force height arstmade  \n",
       "0              N     71        0  \n",
       "1              Y     68        0  \n",
       "2              Y     63        0  \n",
       "3              N     69        0  \n",
       "4              Y     70        0  \n",
       "\n",
       "[5 rows x 49 columns]"
      ],
      "text/html": "<div>\n<style scoped>\n    .dataframe tbody tr th:only-of-type {\n        vertical-align: middle;\n    }\n\n    .dataframe tbody tr th {\n        vertical-align: top;\n    }\n\n    .dataframe thead th {\n        text-align: right;\n    }\n</style>\n<table border=\"1\" class=\"dataframe\">\n  <thead>\n    <tr style=\"text-align: right;\">\n      <th></th>\n      <th>Unnamed: 0</th>\n      <th>year</th>\n      <th>timestop_cat</th>\n      <th>recstat</th>\n      <th>inout</th>\n      <th>trhsloc</th>\n      <th>crimsusp</th>\n      <th>typeofid</th>\n      <th>explnstp</th>\n      <th>othpers</th>\n      <th>...</th>\n      <th>forceuse</th>\n      <th>sex</th>\n      <th>race</th>\n      <th>weight</th>\n      <th>build</th>\n      <th>city</th>\n      <th>weapons</th>\n      <th>physical_force</th>\n      <th>height</th>\n      <th>arstmade</th>\n    </tr>\n  </thead>\n  <tbody>\n    <tr>\n      <th>0</th>\n      <td>0</td>\n      <td>2015</td>\n      <td>D</td>\n      <td>1</td>\n      <td>O</td>\n      <td>P</td>\n      <td>other</td>\n      <td>V</td>\n      <td>Y</td>\n      <td>N</td>\n      <td>...</td>\n      <td>N</td>\n      <td>M</td>\n      <td>W</td>\n      <td>190</td>\n      <td>M</td>\n      <td>BROOKLYN</td>\n      <td>N</td>\n      <td>N</td>\n      <td>71</td>\n      <td>0</td>\n    </tr>\n    <tr>\n      <th>1</th>\n      <td>1</td>\n      <td>2015</td>\n      <td>D</td>\n      <td>A</td>\n      <td>O</td>\n      <td>P</td>\n      <td>other</td>\n      <td>V</td>\n      <td>Y</td>\n      <td>N</td>\n      <td>...</td>\n      <td>SF</td>\n      <td>M</td>\n      <td>B</td>\n      <td>140</td>\n      <td>T</td>\n      <td>MANHATTAN</td>\n      <td>N</td>\n      <td>Y</td>\n      <td>68</td>\n      <td>0</td>\n    </tr>\n    <tr>\n      <th>2</th>\n      <td>2</td>\n      <td>2015</td>\n      <td>D</td>\n      <td>1</td>\n      <td>O</td>\n      <td>P</td>\n      <td>MISD</td>\n      <td>V</td>\n      <td>Y</td>\n      <td>N</td>\n      <td>...</td>\n      <td>SF</td>\n      <td>M</td>\n      <td>B</td>\n      <td>140</td>\n      <td>T</td>\n      <td>MANHATTAN</td>\n      <td>N</td>\n      <td>Y</td>\n      <td>63</td>\n      <td>0</td>\n    </tr>\n    <tr>\n      <th>3</th>\n      <td>3</td>\n      <td>2015</td>\n      <td>D</td>\n      <td>1</td>\n      <td>O</td>\n      <td>P</td>\n      <td>other</td>\n      <td>V</td>\n      <td>Y</td>\n      <td>Y</td>\n      <td>...</td>\n      <td>N</td>\n      <td>M</td>\n      <td>B</td>\n      <td>180</td>\n      <td>M</td>\n      <td>MANHATTAN</td>\n      <td>N</td>\n      <td>N</td>\n      <td>69</td>\n      <td>0</td>\n    </tr>\n    <tr>\n      <th>4</th>\n      <td>4</td>\n      <td>2015</td>\n      <td>D</td>\n      <td>1</td>\n      <td>O</td>\n      <td>P</td>\n      <td>other</td>\n      <td>V</td>\n      <td>Y</td>\n      <td>Y</td>\n      <td>...</td>\n      <td>SF</td>\n      <td>M</td>\n      <td>B</td>\n      <td>160</td>\n      <td>M</td>\n      <td>MANHATTAN</td>\n      <td>N</td>\n      <td>Y</td>\n      <td>70</td>\n      <td>0</td>\n    </tr>\n  </tbody>\n</table>\n<p>5 rows × 49 columns</p>\n</div>"
     },
     "metadata": {},
     "execution_count": 139
    }
   ],
   "source": [
    "df.head()"
   ]
  },
  {
   "cell_type": "code",
   "execution_count": 140,
   "metadata": {},
   "outputs": [
    {
     "output_type": "execute_result",
     "data": {
      "text/plain": [
       "0    24878\n",
       "1     6017\n",
       "Name: arstmade, dtype: int64"
      ]
     },
     "metadata": {},
     "execution_count": 140
    }
   ],
   "source": [
    "df[target_variable].value_counts()"
   ]
  },
  {
   "cell_type": "code",
   "execution_count": 141,
   "metadata": {},
   "outputs": [],
   "source": [
    "X_train, X_test, y_train, y_test = train_validation_data_split(df, target_variable, test_data_ratio=0.3, seed=0)"
   ]
  },
  {
   "cell_type": "code",
   "execution_count": 142,
   "metadata": {},
   "outputs": [
    {
     "output_type": "execute_result",
     "data": {
      "text/plain": [
       "       Unnamed: 0  year timestop_cat recstat inout trhsloc crimsusp typeofid  \\\n",
       "24339       24339  2016            D       1     I       P    other        V   \n",
       "17228       17228  2015            D       1     O       P    other        V   \n",
       "9917         9917  2015            N       A     I       P    other        P   \n",
       "13140       13140  2015            D       1     I       P    other        V   \n",
       "7437         7437  2015            D       1     I       T    other        V   \n",
       "\n",
       "      explnstp othpers  ... sb_other forceuse sex race weight build  \\\n",
       "24339        Y       N  ...        N        N   F    Z    140     M   \n",
       "17228        Y       Y  ...        N        N   F    B    150     M   \n",
       "9917         Y       Y  ...        N        N   M    Q    150     T   \n",
       "13140        Y       N  ...        N        N   M    B    150     M   \n",
       "7437         Y       N  ...        N        N   M    B    170     T   \n",
       "\n",
       "            city weapons physical_force height  \n",
       "24339   BROOKLYN       N              N     65  \n",
       "17228  MANHATTAN       N              N     66  \n",
       "9917   STATEN IS       N              N     66  \n",
       "13140     QUEENS       N              N     68  \n",
       "7437   MANHATTAN       N              N     71  \n",
       "\n",
       "[5 rows x 48 columns]"
      ],
      "text/html": "<div>\n<style scoped>\n    .dataframe tbody tr th:only-of-type {\n        vertical-align: middle;\n    }\n\n    .dataframe tbody tr th {\n        vertical-align: top;\n    }\n\n    .dataframe thead th {\n        text-align: right;\n    }\n</style>\n<table border=\"1\" class=\"dataframe\">\n  <thead>\n    <tr style=\"text-align: right;\">\n      <th></th>\n      <th>Unnamed: 0</th>\n      <th>year</th>\n      <th>timestop_cat</th>\n      <th>recstat</th>\n      <th>inout</th>\n      <th>trhsloc</th>\n      <th>crimsusp</th>\n      <th>typeofid</th>\n      <th>explnstp</th>\n      <th>othpers</th>\n      <th>...</th>\n      <th>sb_other</th>\n      <th>forceuse</th>\n      <th>sex</th>\n      <th>race</th>\n      <th>weight</th>\n      <th>build</th>\n      <th>city</th>\n      <th>weapons</th>\n      <th>physical_force</th>\n      <th>height</th>\n    </tr>\n  </thead>\n  <tbody>\n    <tr>\n      <th>24339</th>\n      <td>24339</td>\n      <td>2016</td>\n      <td>D</td>\n      <td>1</td>\n      <td>I</td>\n      <td>P</td>\n      <td>other</td>\n      <td>V</td>\n      <td>Y</td>\n      <td>N</td>\n      <td>...</td>\n      <td>N</td>\n      <td>N</td>\n      <td>F</td>\n      <td>Z</td>\n      <td>140</td>\n      <td>M</td>\n      <td>BROOKLYN</td>\n      <td>N</td>\n      <td>N</td>\n      <td>65</td>\n    </tr>\n    <tr>\n      <th>17228</th>\n      <td>17228</td>\n      <td>2015</td>\n      <td>D</td>\n      <td>1</td>\n      <td>O</td>\n      <td>P</td>\n      <td>other</td>\n      <td>V</td>\n      <td>Y</td>\n      <td>Y</td>\n      <td>...</td>\n      <td>N</td>\n      <td>N</td>\n      <td>F</td>\n      <td>B</td>\n      <td>150</td>\n      <td>M</td>\n      <td>MANHATTAN</td>\n      <td>N</td>\n      <td>N</td>\n      <td>66</td>\n    </tr>\n    <tr>\n      <th>9917</th>\n      <td>9917</td>\n      <td>2015</td>\n      <td>N</td>\n      <td>A</td>\n      <td>I</td>\n      <td>P</td>\n      <td>other</td>\n      <td>P</td>\n      <td>Y</td>\n      <td>Y</td>\n      <td>...</td>\n      <td>N</td>\n      <td>N</td>\n      <td>M</td>\n      <td>Q</td>\n      <td>150</td>\n      <td>T</td>\n      <td>STATEN IS</td>\n      <td>N</td>\n      <td>N</td>\n      <td>66</td>\n    </tr>\n    <tr>\n      <th>13140</th>\n      <td>13140</td>\n      <td>2015</td>\n      <td>D</td>\n      <td>1</td>\n      <td>I</td>\n      <td>P</td>\n      <td>other</td>\n      <td>V</td>\n      <td>Y</td>\n      <td>N</td>\n      <td>...</td>\n      <td>N</td>\n      <td>N</td>\n      <td>M</td>\n      <td>B</td>\n      <td>150</td>\n      <td>M</td>\n      <td>QUEENS</td>\n      <td>N</td>\n      <td>N</td>\n      <td>68</td>\n    </tr>\n    <tr>\n      <th>7437</th>\n      <td>7437</td>\n      <td>2015</td>\n      <td>D</td>\n      <td>1</td>\n      <td>I</td>\n      <td>T</td>\n      <td>other</td>\n      <td>V</td>\n      <td>Y</td>\n      <td>N</td>\n      <td>...</td>\n      <td>N</td>\n      <td>N</td>\n      <td>M</td>\n      <td>B</td>\n      <td>170</td>\n      <td>T</td>\n      <td>MANHATTAN</td>\n      <td>N</td>\n      <td>N</td>\n      <td>71</td>\n    </tr>\n  </tbody>\n</table>\n<p>5 rows × 48 columns</p>\n</div>"
     },
     "metadata": {},
     "execution_count": 142
    }
   ],
   "source": [
    "X_train.head()"
   ]
  },
  {
   "cell_type": "code",
   "execution_count": 143,
   "metadata": {},
   "outputs": [
    {
     "output_type": "execute_result",
     "data": {
      "text/plain": [
       "(21626, 48)"
      ]
     },
     "metadata": {},
     "execution_count": 143
    }
   ],
   "source": [
    "X_train.shape"
   ]
  },
  {
   "cell_type": "code",
   "execution_count": 144,
   "metadata": {},
   "outputs": [
    {
     "output_type": "execute_result",
     "data": {
      "text/plain": [
       "       Unnamed: 0  year timestop_cat recstat inout trhsloc crimsusp typeofid  \\\n",
       "2436         2436  2015            N       1     I       P    other        R   \n",
       "13872       13872  2015            D       1     O       H    other        P   \n",
       "6733         6733  2015            D       A     O       P    other        P   \n",
       "7155         7155  2015            N       A     O       P    other        V   \n",
       "1751         1751  2015            N       A     O       P    other        P   \n",
       "\n",
       "      explnstp othpers  ... sb_other forceuse sex race weight build  \\\n",
       "2436         Y       Y  ...        N        N   M    Z    180     M   \n",
       "13872        Y       N  ...        N       SF   M    B    215     H   \n",
       "6733         Y       Y  ...        N        N   M    Q    160     M   \n",
       "7155         Y       Y  ...        N        N   M    B    180     T   \n",
       "1751         Y       Y  ...        N        N   M    Z    160     M   \n",
       "\n",
       "            city weapons physical_force height  \n",
       "2436       BRONX       N              N     68  \n",
       "13872  MANHATTAN       N              Y     72  \n",
       "6733      QUEENS       N              N     70  \n",
       "7155   STATEN IS       N              N     68  \n",
       "1751    BROOKLYN       N              N     70  \n",
       "\n",
       "[5 rows x 48 columns]"
      ],
      "text/html": "<div>\n<style scoped>\n    .dataframe tbody tr th:only-of-type {\n        vertical-align: middle;\n    }\n\n    .dataframe tbody tr th {\n        vertical-align: top;\n    }\n\n    .dataframe thead th {\n        text-align: right;\n    }\n</style>\n<table border=\"1\" class=\"dataframe\">\n  <thead>\n    <tr style=\"text-align: right;\">\n      <th></th>\n      <th>Unnamed: 0</th>\n      <th>year</th>\n      <th>timestop_cat</th>\n      <th>recstat</th>\n      <th>inout</th>\n      <th>trhsloc</th>\n      <th>crimsusp</th>\n      <th>typeofid</th>\n      <th>explnstp</th>\n      <th>othpers</th>\n      <th>...</th>\n      <th>sb_other</th>\n      <th>forceuse</th>\n      <th>sex</th>\n      <th>race</th>\n      <th>weight</th>\n      <th>build</th>\n      <th>city</th>\n      <th>weapons</th>\n      <th>physical_force</th>\n      <th>height</th>\n    </tr>\n  </thead>\n  <tbody>\n    <tr>\n      <th>2436</th>\n      <td>2436</td>\n      <td>2015</td>\n      <td>N</td>\n      <td>1</td>\n      <td>I</td>\n      <td>P</td>\n      <td>other</td>\n      <td>R</td>\n      <td>Y</td>\n      <td>Y</td>\n      <td>...</td>\n      <td>N</td>\n      <td>N</td>\n      <td>M</td>\n      <td>Z</td>\n      <td>180</td>\n      <td>M</td>\n      <td>BRONX</td>\n      <td>N</td>\n      <td>N</td>\n      <td>68</td>\n    </tr>\n    <tr>\n      <th>13872</th>\n      <td>13872</td>\n      <td>2015</td>\n      <td>D</td>\n      <td>1</td>\n      <td>O</td>\n      <td>H</td>\n      <td>other</td>\n      <td>P</td>\n      <td>Y</td>\n      <td>N</td>\n      <td>...</td>\n      <td>N</td>\n      <td>SF</td>\n      <td>M</td>\n      <td>B</td>\n      <td>215</td>\n      <td>H</td>\n      <td>MANHATTAN</td>\n      <td>N</td>\n      <td>Y</td>\n      <td>72</td>\n    </tr>\n    <tr>\n      <th>6733</th>\n      <td>6733</td>\n      <td>2015</td>\n      <td>D</td>\n      <td>A</td>\n      <td>O</td>\n      <td>P</td>\n      <td>other</td>\n      <td>P</td>\n      <td>Y</td>\n      <td>Y</td>\n      <td>...</td>\n      <td>N</td>\n      <td>N</td>\n      <td>M</td>\n      <td>Q</td>\n      <td>160</td>\n      <td>M</td>\n      <td>QUEENS</td>\n      <td>N</td>\n      <td>N</td>\n      <td>70</td>\n    </tr>\n    <tr>\n      <th>7155</th>\n      <td>7155</td>\n      <td>2015</td>\n      <td>N</td>\n      <td>A</td>\n      <td>O</td>\n      <td>P</td>\n      <td>other</td>\n      <td>V</td>\n      <td>Y</td>\n      <td>Y</td>\n      <td>...</td>\n      <td>N</td>\n      <td>N</td>\n      <td>M</td>\n      <td>B</td>\n      <td>180</td>\n      <td>T</td>\n      <td>STATEN IS</td>\n      <td>N</td>\n      <td>N</td>\n      <td>68</td>\n    </tr>\n    <tr>\n      <th>1751</th>\n      <td>1751</td>\n      <td>2015</td>\n      <td>N</td>\n      <td>A</td>\n      <td>O</td>\n      <td>P</td>\n      <td>other</td>\n      <td>P</td>\n      <td>Y</td>\n      <td>Y</td>\n      <td>...</td>\n      <td>N</td>\n      <td>N</td>\n      <td>M</td>\n      <td>Z</td>\n      <td>160</td>\n      <td>M</td>\n      <td>BROOKLYN</td>\n      <td>N</td>\n      <td>N</td>\n      <td>70</td>\n    </tr>\n  </tbody>\n</table>\n<p>5 rows × 48 columns</p>\n</div>"
     },
     "metadata": {},
     "execution_count": 144
    }
   ],
   "source": [
    "X_test.head()"
   ]
  },
  {
   "cell_type": "code",
   "execution_count": 145,
   "metadata": {},
   "outputs": [
    {
     "output_type": "execute_result",
     "data": {
      "text/plain": [
       "(9269, 48)"
      ]
     },
     "metadata": {},
     "execution_count": 145
    }
   ],
   "source": [
    "X_test.shape"
   ]
  },
  {
   "cell_type": "markdown",
   "metadata": {},
   "source": [
    "One-Hot Encoding"
   ]
  },
  {
   "cell_type": "code",
   "execution_count": 146,
   "metadata": {},
   "outputs": [],
   "source": [
    "#ONE HOT ENCODING OF THE TRAINING DATA\n",
    "train_cat_cols, train_encoded_cols, train_dummies, X_train = train_data_encoding(X_train)\n",
    "X_train = X_train.sort_index(axis=1)"
   ]
  },
  {
   "cell_type": "code",
   "execution_count": 147,
   "metadata": {},
   "outputs": [
    {
     "output_type": "execute_result",
     "data": {
      "text/plain": [
       "       Unnamed: 0  ac_assoc__N  ac_assoc__Y  ac_evasv__N  ac_evasv__Y  \\\n",
       "24339       24339            1            0            1            0   \n",
       "17228       17228            1            0            1            0   \n",
       "9917         9917            1            0            1            0   \n",
       "13140       13140            1            0            1            0   \n",
       "7437         7437            1            0            1            0   \n",
       "\n",
       "       ac_inves__N  ac_inves__Y  ac_other__N  ac_other__Y  ac_proxm__N  ...  \\\n",
       "24339            1            0            1            0            1  ...   \n",
       "17228            1            0            1            0            0  ...   \n",
       "9917             1            0            1            0            1  ...   \n",
       "13140            1            0            1            0            1  ...   \n",
       "7437             1            0            1            0            1  ...   \n",
       "\n",
       "       trhsloc__P  trhsloc__T  typeofid__O  typeofid__P  typeofid__R  \\\n",
       "24339           1           0            0            0            0   \n",
       "17228           1           0            0            0            0   \n",
       "9917            1           0            0            1            0   \n",
       "13140           1           0            0            0            0   \n",
       "7437            0           1            0            0            0   \n",
       "\n",
       "       typeofid__V  weapons__N  weapons__Y  weight  year  \n",
       "24339            1           1           0     140  2016  \n",
       "17228            1           1           0     150  2015  \n",
       "9917             0           1           0     150  2015  \n",
       "13140            1           1           0     150  2015  \n",
       "7437             1           1           0     170  2015  \n",
       "\n",
       "[5 rows x 116 columns]"
      ],
      "text/html": "<div>\n<style scoped>\n    .dataframe tbody tr th:only-of-type {\n        vertical-align: middle;\n    }\n\n    .dataframe tbody tr th {\n        vertical-align: top;\n    }\n\n    .dataframe thead th {\n        text-align: right;\n    }\n</style>\n<table border=\"1\" class=\"dataframe\">\n  <thead>\n    <tr style=\"text-align: right;\">\n      <th></th>\n      <th>Unnamed: 0</th>\n      <th>ac_assoc__N</th>\n      <th>ac_assoc__Y</th>\n      <th>ac_evasv__N</th>\n      <th>ac_evasv__Y</th>\n      <th>ac_inves__N</th>\n      <th>ac_inves__Y</th>\n      <th>ac_other__N</th>\n      <th>ac_other__Y</th>\n      <th>ac_proxm__N</th>\n      <th>...</th>\n      <th>trhsloc__P</th>\n      <th>trhsloc__T</th>\n      <th>typeofid__O</th>\n      <th>typeofid__P</th>\n      <th>typeofid__R</th>\n      <th>typeofid__V</th>\n      <th>weapons__N</th>\n      <th>weapons__Y</th>\n      <th>weight</th>\n      <th>year</th>\n    </tr>\n  </thead>\n  <tbody>\n    <tr>\n      <th>24339</th>\n      <td>24339</td>\n      <td>1</td>\n      <td>0</td>\n      <td>1</td>\n      <td>0</td>\n      <td>1</td>\n      <td>0</td>\n      <td>1</td>\n      <td>0</td>\n      <td>1</td>\n      <td>...</td>\n      <td>1</td>\n      <td>0</td>\n      <td>0</td>\n      <td>0</td>\n      <td>0</td>\n      <td>1</td>\n      <td>1</td>\n      <td>0</td>\n      <td>140</td>\n      <td>2016</td>\n    </tr>\n    <tr>\n      <th>17228</th>\n      <td>17228</td>\n      <td>1</td>\n      <td>0</td>\n      <td>1</td>\n      <td>0</td>\n      <td>1</td>\n      <td>0</td>\n      <td>1</td>\n      <td>0</td>\n      <td>0</td>\n      <td>...</td>\n      <td>1</td>\n      <td>0</td>\n      <td>0</td>\n      <td>0</td>\n      <td>0</td>\n      <td>1</td>\n      <td>1</td>\n      <td>0</td>\n      <td>150</td>\n      <td>2015</td>\n    </tr>\n    <tr>\n      <th>9917</th>\n      <td>9917</td>\n      <td>1</td>\n      <td>0</td>\n      <td>1</td>\n      <td>0</td>\n      <td>1</td>\n      <td>0</td>\n      <td>1</td>\n      <td>0</td>\n      <td>1</td>\n      <td>...</td>\n      <td>1</td>\n      <td>0</td>\n      <td>0</td>\n      <td>1</td>\n      <td>0</td>\n      <td>0</td>\n      <td>1</td>\n      <td>0</td>\n      <td>150</td>\n      <td>2015</td>\n    </tr>\n    <tr>\n      <th>13140</th>\n      <td>13140</td>\n      <td>1</td>\n      <td>0</td>\n      <td>1</td>\n      <td>0</td>\n      <td>1</td>\n      <td>0</td>\n      <td>1</td>\n      <td>0</td>\n      <td>1</td>\n      <td>...</td>\n      <td>1</td>\n      <td>0</td>\n      <td>0</td>\n      <td>0</td>\n      <td>0</td>\n      <td>1</td>\n      <td>1</td>\n      <td>0</td>\n      <td>150</td>\n      <td>2015</td>\n    </tr>\n    <tr>\n      <th>7437</th>\n      <td>7437</td>\n      <td>1</td>\n      <td>0</td>\n      <td>1</td>\n      <td>0</td>\n      <td>1</td>\n      <td>0</td>\n      <td>1</td>\n      <td>0</td>\n      <td>1</td>\n      <td>...</td>\n      <td>0</td>\n      <td>1</td>\n      <td>0</td>\n      <td>0</td>\n      <td>0</td>\n      <td>1</td>\n      <td>1</td>\n      <td>0</td>\n      <td>170</td>\n      <td>2015</td>\n    </tr>\n  </tbody>\n</table>\n<p>5 rows × 116 columns</p>\n</div>"
     },
     "metadata": {},
     "execution_count": 147
    }
   ],
   "source": [
    "X_train.head()"
   ]
  },
  {
   "cell_type": "code",
   "execution_count": 148,
   "metadata": {},
   "outputs": [
    {
     "output_type": "execute_result",
     "data": {
      "text/plain": [
       "(21626, 116)"
      ]
     },
     "metadata": {},
     "execution_count": 148
    }
   ],
   "source": [
    "X_train.shape"
   ]
  },
  {
   "cell_type": "code",
   "execution_count": 149,
   "metadata": {},
   "outputs": [
    {
     "output_type": "execute_result",
     "data": {
      "text/plain": [
       "(21626,)"
      ]
     },
     "metadata": {},
     "execution_count": 149
    }
   ],
   "source": [
    "y_train.shape"
   ]
  },
  {
   "cell_type": "code",
   "execution_count": 150,
   "metadata": {},
   "outputs": [],
   "source": [
    "X_test = prepare_test_data(X_test)"
   ]
  },
  {
   "cell_type": "code",
   "execution_count": 151,
   "metadata": {},
   "outputs": [
    {
     "output_type": "execute_result",
     "data": {
      "text/plain": [
       "       Unnamed: 0  ac_assoc__N  ac_assoc__Y  ac_evasv__N  ac_evasv__Y  \\\n",
       "2436         2436            1            0            1            0   \n",
       "13872       13872            1            0            1            0   \n",
       "6733         6733            1            0            1            0   \n",
       "7155         7155            0            1            1            0   \n",
       "1751         1751            1            0            1            0   \n",
       "\n",
       "       ac_inves__N  ac_inves__Y  ac_other__N  ac_other__Y  ac_proxm__N  ...  \\\n",
       "2436             1            0            1            0            1  ...   \n",
       "13872            1            0            0            1            1  ...   \n",
       "6733             1            0            1            0            1  ...   \n",
       "7155             1            0            1            0            1  ...   \n",
       "1751             1            0            1            0            0  ...   \n",
       "\n",
       "       trhsloc__P  trhsloc__T  typeofid__O  typeofid__P  typeofid__R  \\\n",
       "2436            1           0            0            0            1   \n",
       "13872           0           0            0            1            0   \n",
       "6733            1           0            0            1            0   \n",
       "7155            1           0            0            0            0   \n",
       "1751            1           0            0            1            0   \n",
       "\n",
       "       typeofid__V  weapons__N  weapons__Y  weight  year  \n",
       "2436             0           1           0     180  2015  \n",
       "13872            0           1           0     215  2015  \n",
       "6733             0           1           0     160  2015  \n",
       "7155             1           1           0     180  2015  \n",
       "1751             0           1           0     160  2015  \n",
       "\n",
       "[5 rows x 116 columns]"
      ],
      "text/html": "<div>\n<style scoped>\n    .dataframe tbody tr th:only-of-type {\n        vertical-align: middle;\n    }\n\n    .dataframe tbody tr th {\n        vertical-align: top;\n    }\n\n    .dataframe thead th {\n        text-align: right;\n    }\n</style>\n<table border=\"1\" class=\"dataframe\">\n  <thead>\n    <tr style=\"text-align: right;\">\n      <th></th>\n      <th>Unnamed: 0</th>\n      <th>ac_assoc__N</th>\n      <th>ac_assoc__Y</th>\n      <th>ac_evasv__N</th>\n      <th>ac_evasv__Y</th>\n      <th>ac_inves__N</th>\n      <th>ac_inves__Y</th>\n      <th>ac_other__N</th>\n      <th>ac_other__Y</th>\n      <th>ac_proxm__N</th>\n      <th>...</th>\n      <th>trhsloc__P</th>\n      <th>trhsloc__T</th>\n      <th>typeofid__O</th>\n      <th>typeofid__P</th>\n      <th>typeofid__R</th>\n      <th>typeofid__V</th>\n      <th>weapons__N</th>\n      <th>weapons__Y</th>\n      <th>weight</th>\n      <th>year</th>\n    </tr>\n  </thead>\n  <tbody>\n    <tr>\n      <th>2436</th>\n      <td>2436</td>\n      <td>1</td>\n      <td>0</td>\n      <td>1</td>\n      <td>0</td>\n      <td>1</td>\n      <td>0</td>\n      <td>1</td>\n      <td>0</td>\n      <td>1</td>\n      <td>...</td>\n      <td>1</td>\n      <td>0</td>\n      <td>0</td>\n      <td>0</td>\n      <td>1</td>\n      <td>0</td>\n      <td>1</td>\n      <td>0</td>\n      <td>180</td>\n      <td>2015</td>\n    </tr>\n    <tr>\n      <th>13872</th>\n      <td>13872</td>\n      <td>1</td>\n      <td>0</td>\n      <td>1</td>\n      <td>0</td>\n      <td>1</td>\n      <td>0</td>\n      <td>0</td>\n      <td>1</td>\n      <td>1</td>\n      <td>...</td>\n      <td>0</td>\n      <td>0</td>\n      <td>0</td>\n      <td>1</td>\n      <td>0</td>\n      <td>0</td>\n      <td>1</td>\n      <td>0</td>\n      <td>215</td>\n      <td>2015</td>\n    </tr>\n    <tr>\n      <th>6733</th>\n      <td>6733</td>\n      <td>1</td>\n      <td>0</td>\n      <td>1</td>\n      <td>0</td>\n      <td>1</td>\n      <td>0</td>\n      <td>1</td>\n      <td>0</td>\n      <td>1</td>\n      <td>...</td>\n      <td>1</td>\n      <td>0</td>\n      <td>0</td>\n      <td>1</td>\n      <td>0</td>\n      <td>0</td>\n      <td>1</td>\n      <td>0</td>\n      <td>160</td>\n      <td>2015</td>\n    </tr>\n    <tr>\n      <th>7155</th>\n      <td>7155</td>\n      <td>0</td>\n      <td>1</td>\n      <td>1</td>\n      <td>0</td>\n      <td>1</td>\n      <td>0</td>\n      <td>1</td>\n      <td>0</td>\n      <td>1</td>\n      <td>...</td>\n      <td>1</td>\n      <td>0</td>\n      <td>0</td>\n      <td>0</td>\n      <td>0</td>\n      <td>1</td>\n      <td>1</td>\n      <td>0</td>\n      <td>180</td>\n      <td>2015</td>\n    </tr>\n    <tr>\n      <th>1751</th>\n      <td>1751</td>\n      <td>1</td>\n      <td>0</td>\n      <td>1</td>\n      <td>0</td>\n      <td>1</td>\n      <td>0</td>\n      <td>1</td>\n      <td>0</td>\n      <td>0</td>\n      <td>...</td>\n      <td>1</td>\n      <td>0</td>\n      <td>0</td>\n      <td>1</td>\n      <td>0</td>\n      <td>0</td>\n      <td>1</td>\n      <td>0</td>\n      <td>160</td>\n      <td>2015</td>\n    </tr>\n  </tbody>\n</table>\n<p>5 rows × 116 columns</p>\n</div>"
     },
     "metadata": {},
     "execution_count": 151
    }
   ],
   "source": [
    "X_test.head()"
   ]
  },
  {
   "cell_type": "code",
   "execution_count": 152,
   "metadata": {},
   "outputs": [
    {
     "output_type": "execute_result",
     "data": {
      "text/plain": [
       "(9269, 116)"
      ]
     },
     "metadata": {},
     "execution_count": 152
    }
   ],
   "source": [
    "X_test.shape"
   ]
  },
  {
   "cell_type": "code",
   "execution_count": 153,
   "metadata": {},
   "outputs": [
    {
     "output_type": "execute_result",
     "data": {
      "text/plain": [
       "(9269,)"
      ]
     },
     "metadata": {},
     "execution_count": 153
    }
   ],
   "source": [
    "y_test.shape"
   ]
  },
  {
   "cell_type": "code",
   "execution_count": 154,
   "metadata": {},
   "outputs": [],
   "source": [
    "y_train = y_train.astype('int')\n",
    "y_test = y_test.astype('int')"
   ]
  },
  {
   "cell_type": "code",
   "execution_count": 155,
   "metadata": {},
   "outputs": [
    {
     "output_type": "execute_result",
     "data": {
      "text/plain": [
       "0    7431\n",
       "1    1838\n",
       "Name: arstmade, dtype: int64"
      ]
     },
     "metadata": {},
     "execution_count": 155
    }
   ],
   "source": [
    "y_test.value_counts()"
   ]
  },
  {
   "cell_type": "markdown",
   "metadata": {},
   "source": [
    "Bernoulli NB-model"
   ]
  },
  {
   "cell_type": "code",
   "execution_count": 156,
   "metadata": {},
   "outputs": [],
   "source": [
    "from sklearn import metrics\n",
    "from sklearn.metrics import classification_report\n",
    "from sklearn.metrics import accuracy_score\n",
    "from sklearn.metrics import precision_recall_fscore_support as score\n",
    "from sklearn.metrics import roc_curve\n",
    "from sklearn.metrics import roc_auc_score\n",
    "\n",
    "from sklearn import model_selection, naive_bayes\n",
    "from sklearn.model_selection import cross_val_score\n",
    "from sklearn.metrics import accuracy_score, recall_score, precision_score"
   ]
  },
  {
   "cell_type": "code",
   "execution_count": 157,
   "metadata": {},
   "outputs": [],
   "source": [
    "from sklearn.naive_bayes import BernoulliNB\n",
    "model = BernoulliNB(fit_prior=True, alpha=1)\n",
    "nb = model.fit(X_train, y_train)"
   ]
  },
  {
   "cell_type": "code",
   "execution_count": 158,
   "metadata": {},
   "outputs": [],
   "source": [
    "pd = nb.predict(X_test)"
   ]
  },
  {
   "cell_type": "code",
   "execution_count": 159,
   "metadata": {},
   "outputs": [
    {
     "output_type": "stream",
     "name": "stdout",
     "text": [
      "Accuracy: 0.8642787787247815\nPrecision: 0.6400966183574879\nRecall: 0.720892274211099\n"
     ]
    }
   ],
   "source": [
    "print(\"Accuracy:\",metrics.accuracy_score(y_test, pd))\n",
    "print(\"Precision:\",metrics.precision_score(y_test, pd))\n",
    "print(\"Recall:\",metrics.recall_score(y_test, pd))"
   ]
  },
  {
   "cell_type": "code",
   "execution_count": 160,
   "metadata": {},
   "outputs": [
    {
     "output_type": "error",
     "ename": "ModuleNotFoundError",
     "evalue": "No module named 'mlxtend'",
     "traceback": [
      "\u001b[1;31m---------------------------------------------------------------------------\u001b[0m",
      "\u001b[1;31mModuleNotFoundError\u001b[0m                       Traceback (most recent call last)",
      "\u001b[1;32m<ipython-input-160-7c17f46900c7>\u001b[0m in \u001b[0;36m<module>\u001b[1;34m\u001b[0m\n\u001b[1;32m----> 1\u001b[1;33m \u001b[1;32mimport\u001b[0m \u001b[0mmlxtend\u001b[0m\u001b[1;33m\u001b[0m\u001b[1;33m\u001b[0m\u001b[0m\n\u001b[0m\u001b[0;32m      2\u001b[0m \u001b[1;32mfrom\u001b[0m \u001b[0msklearn\u001b[0m\u001b[1;33m.\u001b[0m\u001b[0mmetrics\u001b[0m \u001b[1;32mimport\u001b[0m \u001b[0mplot_confusion_matrix\u001b[0m\u001b[1;33m\u001b[0m\u001b[1;33m\u001b[0m\u001b[0m\n\u001b[0;32m      3\u001b[0m \u001b[1;32mfrom\u001b[0m \u001b[0mmlxtend\u001b[0m\u001b[1;33m.\u001b[0m\u001b[0mplotting\u001b[0m \u001b[1;32mimport\u001b[0m \u001b[0mplot_decision_regions\u001b[0m\u001b[1;33m\u001b[0m\u001b[1;33m\u001b[0m\u001b[0m\n\u001b[0;32m      4\u001b[0m \u001b[1;33m\u001b[0m\u001b[0m\n\u001b[0;32m      5\u001b[0m \u001b[0mmatrix\u001b[0m \u001b[1;33m=\u001b[0m \u001b[0mplot_confusion_matrix\u001b[0m\u001b[1;33m(\u001b[0m\u001b[0mnb\u001b[0m\u001b[1;33m,\u001b[0m \u001b[0mX_test\u001b[0m\u001b[1;33m,\u001b[0m \u001b[0my_test\u001b[0m\u001b[1;33m,\u001b[0m \u001b[0mcmap\u001b[0m\u001b[1;33m=\u001b[0m\u001b[0mplt\u001b[0m\u001b[1;33m.\u001b[0m\u001b[0mcm\u001b[0m\u001b[1;33m.\u001b[0m\u001b[0mBlues\u001b[0m\u001b[1;33m)\u001b[0m\u001b[1;33m\u001b[0m\u001b[1;33m\u001b[0m\u001b[0m\n",
      "\u001b[1;31mModuleNotFoundError\u001b[0m: No module named 'mlxtend'"
     ]
    }
   ],
   "source": [
    "import mlxtend\n",
    "from sklearn.metrics import plot_confusion_matrix\n",
    "from mlxtend.plotting import plot_decision_regions\n",
    "\n",
    "matrix = plot_confusion_matrix(nb, X_test, y_test, cmap=plt.cm.Blues)\n",
    "plt.title('Confusion Matrix for Naive-Bayes')\n",
    "plt.show(matrix)\n",
    "plt.show()"
   ]
  },
  {
   "cell_type": "code",
   "execution_count": 39,
   "metadata": {},
   "outputs": [
    {
     "data": {
      "image/png": "[encoded data removed]",
      "text/plain": [
       "<Figure size 432x288 with 1 Axes>"
      ]
     },
     "metadata": {
      "needs_background": "light"
     },
     "output_type": "display_data"
    }
   ],
   "source": [
    "nb_roc_auc = roc_auc_score(y_test, model.fit(X_train, y_train).predict(X_test))\n",
    "fpr, tpr, thresholds = roc_curve(y_test, model.fit(X_train, y_train).predict_proba(X_test)[:,1])\n",
    "plt.figure()\n",
    "plt.plot(fpr, tpr, label='NB (area = %0.2f)' % nb_roc_auc)\n",
    "plt.plot([0, 1], [0, 1],'r--')\n",
    "plt.xlim([0.0, 1.0])\n",
    "plt.ylim([0.0, 1.05])\n",
    "plt.xlabel('False Positive Rate')\n",
    "plt.ylabel('True Positive Rate')\n",
    "plt.title('ROC for Naive-Bayes model')\n",
    "plt.legend(loc=\"lower right\")\n",
    "plt.savefig('NB_model')\n",
    "plt.show()"
   ]
  },
  {
   "cell_type": "markdown",
   "metadata": {},
   "source": [
    "Naive-Bayes with Cross Validation"
   ]
  },
  {
   "cell_type": "code",
   "execution_count": 40,
   "metadata": {},
   "outputs": [],
   "source": [
    "def performCV(X, Y, model, folds, measure):\n",
    "  return cross_val_score(model, X, Y, cv=folds, scoring=measure)"
   ]
  },
  {
   "cell_type": "markdown",
   "metadata": {},
   "source": [
    "5-fold Cross Validation"
   ]
  },
  {
   "cell_type": "code",
   "execution_count": 41,
   "metadata": {},
   "outputs": [],
   "source": [
    "model =  BernoulliNB()\n",
    "\n",
    "accuracy = performCV(X_test, y_test, model, 5, 'accuracy')\n",
    "recall = performCV(X_test, y_test, model, 5, 'recall')\n",
    "precision = performCV(X_test, y_test, model, 5, 'precision')\n",
    "f1score = performCV(X_test, y_test, model, 5, 'f1')"
   ]
  },
  {
   "cell_type": "code",
   "execution_count": 42,
   "metadata": {},
   "outputs": [
    {
     "name": "stdout",
     "output_type": "stream",
     "text": [
      "Accuracy:  0.8652481092790432 Recall:  0.7219731074517237 Precision:  0.6430556778483123 f1-score:  0.6801529347768078\n"
     ]
    }
   ],
   "source": [
    "print(\"Accuracy: \", accuracy.mean(), \"Recall: \", recall.mean(), \"Precision: \", \n",
    "      precision.mean(), \"f1-score: \", f1score.mean())"
   ]
  },
  {
   "cell_type": "markdown",
   "metadata": {},
   "source": [
    "10-fold Cross Validation"
   ]
  },
  {
   "cell_type": "code",
   "execution_count": 98,
   "metadata": {},
   "outputs": [],
   "source": [
    "model =  BernoulliNB()\n",
    "\n",
    "accuracy = performCV(X_test, y_test, model, 10, 'accuracy')\n",
    "recall = performCV(X_test, y_test, model, 10, 'recall')\n",
    "precision = performCV(X_test, y_test, model, 10, 'precision')\n",
    "f1score = performCV(X_test, y_test, model, 10, 'f1')"
   ]
  },
  {
   "cell_type": "code",
   "execution_count": 99,
   "metadata": {},
   "outputs": [
    {
     "name": "stdout",
     "output_type": "stream",
     "text": [
      "Accuracy:  0.8650335157653408 Recall:  0.7203878593490141 Precision:  0.642940115558289 f1-score:  0.6792610325233983\n"
     ]
    }
   ],
   "source": [
    "print(\"Accuracy: \", accuracy.mean(), \"Recall: \", recall.mean(), \"Precision: \", \n",
    "      precision.mean(), \"f1-score: \", f1score.mean())"
   ]
  },
  {
   "cell_type": "code",
   "execution_count": 100,
   "metadata": {},
   "outputs": [
    {
     "data": {
      "text/plain": [
       "Text(0.5, 1.0, 'PR-curve: Naive-Bayes AP=0.52')"
      ]
     },
     "execution_count": 100,
     "metadata": {},
     "output_type": "execute_result"
    },
    {
     "data": {
      "image/png": "[encoded data removed]",
      "text/plain": [
       "<Figure size 432x288 with 1 Axes>"
      ]
     },
     "metadata": {
      "needs_background": "light"
     },
     "output_type": "display_data"
    }
   ],
   "source": [
    "from sklearn.metrics import precision_recall_curve\n",
    "from sklearn.metrics import plot_precision_recall_curve\n",
    "import matplotlib.pyplot as plt\n",
    "\n",
    "disp = plot_precision_recall_curve(nb, X_test, y_test)\n",
    "disp.ax_.set_title('PR-curve: Naive-Bayes '\n",
    "                   'AP={0:0.2f}'.format(average_precision))"
   ]
  }
 ],
 "metadata": {
  "kernelspec": {
   "name": "python383jvsc74a57bd0f28dd0bd61f4cc838214879558ad1296e6d46aeed65ae415ec6a1f147e2e0a98",
   "display_name": "Python 3.8.3 64-bit ('base': conda)"
  },
  "language_info": {
   "codemirror_mode": {
    "name": "ipython",
    "version": 3
   },
   "file_extension": ".py",
   "mimetype": "text/x-python",
   "name": "python",
   "nbconvert_exporter": "python",
   "pygments_lexer": "ipython3",
   "version": "3.8.3"
  }
 },
 "nbformat": 4,
 "nbformat_minor": 4
}